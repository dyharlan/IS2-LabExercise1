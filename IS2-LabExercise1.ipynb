{
 "cells": [
  {
   "cell_type": "code",
   "execution_count": 1,
   "id": "71726212-4521-4cb0-9735-41dcff267b92",
   "metadata": {},
   "outputs": [],
   "source": [
    "import numpy as np\n",
    "import pandas as pd\n",
    "import matplotlib.pyplot as plt\n",
    "import seaborn as sns\n",
    "### Loading the Dataset\n",
    "data = pd.read_csv(\"House_Rent_Dataset.csv\")"
   ]
  },
  {
   "cell_type": "code",
   "execution_count": 2,
   "id": "26ca15dc-476d-4d73-828a-68b5553f4641",
   "metadata": {},
   "outputs": [
    {
     "name": "stdout",
     "output_type": "stream",
     "text": [
      "True\n"
     ]
    }
   ],
   "source": [
    "### Engineer a new Feature. In this case, Rent/Sq. Ft.\n",
    "area = data['Size']\n",
    "rent = data['Rent']\n",
    "print(area.size == rent.size)\n",
    "rent_per_sq_ft = []\n",
    "x = 0\n",
    "while x < rent.size:\n",
    "    rent_per_sq_ft.append(rent.iloc[x]/area.iloc[x])\n",
    "    x+=1"
   ]
  },
  {
   "cell_type": "code",
   "execution_count": 3,
   "id": "5566749b-e256-401d-9103-660eec298e6e",
   "metadata": {},
   "outputs": [],
   "source": [
    "### Append the new feature/s as new columns\n",
    "data['Rent per Square Feet'] = rent_per_sq_ft"
   ]
  },
  {
   "cell_type": "code",
   "execution_count": 4,
   "id": "b8e0f527-8b4c-46a6-beb6-958cadfcf7e0",
   "metadata": {},
   "outputs": [],
   "source": [
    "### Pre-processing\n",
    "data = data[['BHK', 'Bathroom', 'Furnishing Status', 'Size', 'Area Locality', 'Floor', 'Rent per Square Feet', 'Area Type', 'City', 'Rent']]\n",
    "def one_hot_encode(data, column):\n",
    "    encoded = pd.get_dummies(data[column], drop_first= True)\n",
    "    data = data.drop(column, axis = 1)\n",
    "    data = data.join(encoded)\n",
    "    return data\n",
    "def target_encode(data, column, column_label, target):\n",
    "    target_mean = data.groupby(column)[target].mean()\n",
    "    data[column_label] = data[column].map(target_mean)\n",
    "    data = data.drop(column, axis = 1)\n",
    "    return data"
   ]
  },
  {
   "cell_type": "code",
   "execution_count": 5,
   "id": "da053d92-f184-48db-94f0-6e622bce6b0b",
   "metadata": {},
   "outputs": [],
   "source": [
    "data = one_hot_encode(data, 'Furnishing Status')\n",
    "data = target_encode(data, 'Floor', 'Floor Target', 'Rent')\n",
    "data = target_encode(data, 'Area Locality', 'Area Locality Target', 'Rent')\n",
    "data = one_hot_encode(data, 'Area Type')\n",
    "data = one_hot_encode(data, 'City')"
   ]
  },
  {
   "cell_type": "code",
   "execution_count": 6,
   "id": "31e5d5e7-491d-457c-af6b-398b4a1663b6",
   "metadata": {},
   "outputs": [],
   "source": [
    "## Remove Rent from the X axis and put into the Y-axis\n",
    "X = data.drop('Rent', axis= 1)\n",
    "y = data['Rent']"
   ]
  },
  {
   "cell_type": "code",
   "execution_count": 7,
   "id": "d3c87c49-ee8e-4bef-a65b-2ccc7d1e2a14",
   "metadata": {},
   "outputs": [],
   "source": [
    "## Split the dataset into training and test data\n",
    "from sklearn.model_selection import train_test_split\n",
    "X_train, X_test, y_train, y_test = train_test_split(X, y, test_size= 0.2, random_state = 42)"
   ]
  },
  {
   "cell_type": "code",
   "execution_count": 8,
   "id": "c16a13ac-eab8-4491-93f3-2e1904355577",
   "metadata": {},
   "outputs": [],
   "source": [
    "## Standardize the Data\n",
    "from sklearn.preprocessing import StandardScaler\n",
    "sc = StandardScaler()\n",
    "X_train2 = X_train\n",
    "X_train = sc.fit_transform(X_train)\n",
    "X_test = sc.transform(X_test)\n",
    "X_train2 = sc.transform(X_train2)"
   ]
  },
  {
   "cell_type": "code",
   "execution_count": 9,
   "id": "90598fd9-7b03-462e-8492-521218f9c0b9",
   "metadata": {},
   "outputs": [
    {
     "name": "stdout",
     "output_type": "stream",
     "text": [
      "Results of the Gradient Descent:  [-3997.84029788 -5686.40599791 25360.17106294 30841.2349625\n",
      "  1430.45293024  2738.95640818  6811.43481244 37946.49057574\n",
      " -4711.40794758 -4221.13701606  -315.28046876 -4001.58766812\n",
      " -3535.71103825   990.08311176 -4280.76966178]\n"
     ]
    }
   ],
   "source": [
    "## Fitting via gradient descent\n",
    "from sklearn import linear_model\n",
    "model = linear_model.LinearRegression()\n",
    "model.fit(X_train, y_train)\n",
    "print(\"Results of the Gradient Descent: \",model.coef_)"
   ]
  },
  {
   "cell_type": "code",
   "execution_count": 10,
   "id": "fc6dceb5-cb55-4f51-9c7f-30bece05eeba",
   "metadata": {},
   "outputs": [
    {
     "name": "stdout",
     "output_type": "stream",
     "text": [
      "Coefficients: \n",
      " [-3997.84029788 -5686.40599791 25360.17106294 30841.2349625\n",
      "  1430.45293024  2738.95640818  6811.43481244 37946.49057574\n",
      " -4711.40794758 -4221.13701606  -315.28046876 -4001.58766812\n",
      " -3535.71103825   990.08311176 -4280.76966178]\n",
      "Mean squared error of the test set: 1297028467.39\n",
      "Coefficient of determination of the test set: 0.67\n",
      "Coefficients: \n",
      " [-3997.84029788 -5686.40599791 25360.17106294 30841.2349625\n",
      "  1430.45293024  2738.95640818  6811.43481244 37946.49057574\n",
      " -4711.40794758 -4221.13701606  -315.28046876 -4001.58766812\n",
      " -3535.71103825   990.08311176 -4280.76966178]\n",
      "Mean squared error of the training set: 2249527793.30\n",
      "Coefficient of determination of the training set: 0.66\n"
     ]
    }
   ],
   "source": [
    "### Quantitative Evaluation of the test set\n",
    "y_preds_test_set = model.predict(X_test)\n",
    "from sklearn.metrics import mean_squared_error, r2_score\n",
    "# The coefficients\n",
    "print(\"Coefficients: \\n\", model.coef_)\n",
    "# The mean squared error\n",
    "print(\"Mean squared error of the test set: %.2f\" % mean_squared_error(y_test, y_preds_test_set))\n",
    "# The coefficient of determination: 1 is perfect prediction\n",
    "print(\"Coefficient of determination of the test set: %.2f\" % r2_score(y_test, y_preds_test_set))\n",
    "\n",
    "### Quantitative Evaluation of the training set\n",
    "y_preds_train_set = model.predict(X_train2)\n",
    "#from sklearn.metrics import mean_squared_error, r2_score\n",
    "# The coefficients\n",
    "print(\"Coefficients: \\n\", model.coef_)\n",
    "# The mean squared error\n",
    "print(\"Mean squared error of the training set: %.2f\" % mean_squared_error(y_train, y_preds_train_set))\n",
    "# The coefficient of determination: 1 is perfect prediction\n",
    "print(\"Coefficient of determination of the training set: %.2f\" % r2_score(y_train, y_preds_train_set))"
   ]
  },
  {
   "cell_type": "code",
   "execution_count": 11,
   "id": "4f0ce2e1-62da-4fdb-bd1a-1e004e34ea61",
   "metadata": {},
   "outputs": [
    {
     "name": "stdout",
     "output_type": "stream",
     "text": [
      "Sample Data: \n",
      " BHK                         2.000000\n",
      "Bathroom                    2.000000\n",
      "Size                     1100.000000\n",
      "Rent per Square Feet        9.090909\n",
      "Semi-Furnished              0.000000\n",
      "Unfurnished                 1.000000\n",
      "Floor Target            14152.820000\n",
      "Area Locality Target     8250.000000\n",
      "Carpet Area                 0.000000\n",
      "Super Area                  1.000000\n",
      "Chennai                     0.000000\n",
      "Delhi                       0.000000\n",
      "Hyderabad                   0.000000\n",
      "Kolkata                     1.000000\n",
      "Mumbai                      0.000000\n",
      "Name: 0, dtype: float64\n",
      "Forecasted Rent:  15594.4705548091\n",
      "Actual Rent:  10000\n"
     ]
    },
    {
     "name": "stderr",
     "output_type": "stream",
     "text": [
      "/usr/lib/python3.11/site-packages/sklearn/base.py:464: UserWarning: X does not have valid feature names, but StandardScaler was fitted with feature names\n",
      "  warnings.warn(\n"
     ]
    }
   ],
   "source": [
    "### Qualitative Evaluation\n",
    "\n",
    "#sample_index = 456 #Negative Value?\n",
    "#sample_index = 4352 #Negative Value?\n",
    "import random\n",
    "#sample_index = random.randint(0, len(X)-1)\n",
    "sample_index = 0\n",
    "sample_data = X.iloc[sample_index]\n",
    "print(\"Sample Data: \\n\", sample_data)\n",
    "sample_data_standardized = sc.transform(X.iloc[sample_index].values.reshape(1,-1))\n",
    "model_rent_forecast = model.predict(sample_data_standardized)[0]\n",
    "print(\"Forecasted Rent: \",model_rent_forecast)\n",
    "print(\"Actual Rent: \", y.iloc[sample_index])"
   ]
  },
  {
   "cell_type": "code",
   "execution_count": null,
   "id": "720936e3-3528-44a4-b4c9-82bc37b783df",
   "metadata": {},
   "outputs": [],
   "source": []
  }
 ],
 "metadata": {
  "kernelspec": {
   "display_name": "Python 3 (ipykernel)",
   "language": "python",
   "name": "python3"
  },
  "language_info": {
   "codemirror_mode": {
    "name": "ipython",
    "version": 3
   },
   "file_extension": ".py",
   "mimetype": "text/x-python",
   "name": "python",
   "nbconvert_exporter": "python",
   "pygments_lexer": "ipython3",
   "version": "3.11.5"
  }
 },
 "nbformat": 4,
 "nbformat_minor": 5
}
