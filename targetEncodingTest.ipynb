{
 "cells": [
  {
   "cell_type": "code",
   "execution_count": 3,
   "id": "9b6e8c31-c17a-4692-8ec0-270a2f5715f7",
   "metadata": {},
   "outputs": [
    {
     "name": "stdout",
     "output_type": "stream",
     "text": [
      "Before Encoding the Data:\n",
      "\n",
      "   color  target\n",
      "0    red       0\n",
      "1  green       1\n",
      "2   blue       0\n",
      "3    red       1\n",
      "4  green       0\n",
      "\n"
     ]
    }
   ],
   "source": [
    "import pandas as pd\n",
    "\n",
    "# Create a sample dataframe with categorical data and target\n",
    "df = pd.DataFrame({'color': ['red', 'green', 'blue', 'red', 'green'],\n",
    "                   'target': [0, 1, 0, 1, 0]})\n",
    "print(f\"Before Encoding the Data:\\n\\n{df}\\n\")\n",
    "\n"
   ]
  },
  {
   "cell_type": "code",
   "execution_count": 4,
   "id": "96078116-2c71-4216-8df5-e69fd728f46a",
   "metadata": {},
   "outputs": [
    {
     "name": "stdout",
     "output_type": "stream",
     "text": [
      "After Encoding the Data:\n",
      "\n",
      "   color  target  color_label\n",
      "0    red       0          0.5\n",
      "1  green       1          0.5\n",
      "2   blue       0          0.0\n",
      "3    red       1          0.5\n",
      "4  green       0          0.5\n"
     ]
    }
   ],
   "source": [
    "# Calculate the mean target value for each category\n",
    "target_mean = df.groupby('color')['target'].mean()\n",
    "\n",
    "# Replace the categorical data with the mean target value\n",
    "df['color_label'] = df['color'].map(target_mean)\n",
    "\n",
    "\n",
    "print(f\"After Encoding the Data:\\n\\n{df}\")"
   ]
  },
  {
   "cell_type": "code",
   "execution_count": null,
   "id": "c6000efb-5f12-4911-9b0f-3878128da0d1",
   "metadata": {},
   "outputs": [],
   "source": []
  }
 ],
 "metadata": {
  "kernelspec": {
   "display_name": "Python 3 (ipykernel)",
   "language": "python",
   "name": "python3"
  },
  "language_info": {
   "codemirror_mode": {
    "name": "ipython",
    "version": 3
   },
   "file_extension": ".py",
   "mimetype": "text/x-python",
   "name": "python",
   "nbconvert_exporter": "python",
   "pygments_lexer": "ipython3",
   "version": "3.11.5"
  }
 },
 "nbformat": 4,
 "nbformat_minor": 5
}
